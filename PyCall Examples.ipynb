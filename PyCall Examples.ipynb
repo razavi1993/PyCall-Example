{
 "cells": [
  {
   "cell_type": "code",
   "execution_count": 20,
   "id": "bfc9f8cb",
   "metadata": {},
   "outputs": [],
   "source": [
    "using PyCall\n",
    "using PyPlot"
   ]
  },
  {
   "cell_type": "code",
   "execution_count": 21,
   "id": "b3a51c90",
   "metadata": {},
   "outputs": [
    {
     "data": {
      "text/plain": [
       "PyObject <module 'numpy' from 'C:\\\\Users\\\\javan\\\\.julia\\\\conda\\\\3\\\\lib\\\\site-packages\\\\numpy\\\\__init__.py'>"
      ]
     },
     "execution_count": 21,
     "metadata": {},
     "output_type": "execute_result"
    }
   ],
   "source": [
    "np = pyimport(\"numpy\")"
   ]
  },
  {
   "cell_type": "code",
   "execution_count": 22,
   "id": "e2b5079e",
   "metadata": {},
   "outputs": [
    {
     "data": {
      "text/plain": [
       "f (generic function with 1 method)"
      ]
     },
     "execution_count": 22,
     "metadata": {},
     "output_type": "execute_result"
    }
   ],
   "source": [
    "function f(x)\n",
    "    return x^2\n",
    "end"
   ]
  },
  {
   "cell_type": "code",
   "execution_count": 23,
   "id": "c2c97169",
   "metadata": {},
   "outputs": [
    {
     "data": {
      "text/plain": [
       "5-element Vector{Float64}:\n",
       " 0.02143214333935703\n",
       " 0.50377793242259\n",
       " 0.5995890992448444\n",
       " 0.5373771255729756\n",
       " 0.1337846952680449"
      ]
     },
     "execution_count": 23,
     "metadata": {},
     "output_type": "execute_result"
    }
   ],
   "source": [
    "f.(np.random.rand(5))"
   ]
  },
  {
   "cell_type": "code",
   "execution_count": 24,
   "id": "c21ef3e2",
   "metadata": {},
   "outputs": [
    {
     "data": {
      "text/plain": [
       "area (generic function with 1 method)"
      ]
     },
     "execution_count": 24,
     "metadata": {},
     "output_type": "execute_result"
    }
   ],
   "source": [
    "function area(x)\n",
    "    return sum(f.(x))/length(x)\n",
    "end"
   ]
  },
  {
   "cell_type": "code",
   "execution_count": 25,
   "id": "c9b047fc",
   "metadata": {},
   "outputs": [
    {
     "data": {
      "text/plain": [
       "0.3331455462961916"
      ]
     },
     "execution_count": 25,
     "metadata": {},
     "output_type": "execute_result"
    }
   ],
   "source": [
    "area(np.random.rand(1000000))"
   ]
  },
  {
   "cell_type": "code",
   "execution_count": 26,
   "id": "49e31f45",
   "metadata": {},
   "outputs": [
    {
     "data": {
      "text/plain": [
       "g (generic function with 1 method)"
      ]
     },
     "execution_count": 26,
     "metadata": {},
     "output_type": "execute_result"
    }
   ],
   "source": [
    "g(x) = sqrt(x)"
   ]
  },
  {
   "cell_type": "code",
   "execution_count": 27,
   "id": "683fee19",
   "metadata": {},
   "outputs": [
    {
     "data": {
      "text/plain": [
       "10-element Vector{Float64}:\n",
       " 0.0\n",
       " 1.0\n",
       " 1.4142135623730951\n",
       " 1.7320508075688772\n",
       " 2.0\n",
       " 2.23606797749979\n",
       " 2.449489742783178\n",
       " 2.6457513110645907\n",
       " 2.8284271247461903\n",
       " 3.0"
      ]
     },
     "execution_count": 27,
     "metadata": {},
     "output_type": "execute_result"
    }
   ],
   "source": [
    "g.(np.arange(10))"
   ]
  },
  {
   "cell_type": "code",
   "execution_count": 28,
   "id": "2ce36793",
   "metadata": {},
   "outputs": [],
   "source": [
    "py\"\"\"\n",
    "def f2(x):\n",
    "    return x**2\n",
    "\"\"\""
   ]
  },
  {
   "cell_type": "code",
   "execution_count": 29,
   "id": "cd56c696",
   "metadata": {},
   "outputs": [
    {
     "data": {
      "text/plain": [
       "5-element Vector{Float64}:\n",
       " 0.3150983088725011\n",
       " 0.5780165898321228\n",
       " 1.3719000709447373e-5\n",
       " 0.9011192456492946\n",
       " 0.8496502684671033"
      ]
     },
     "execution_count": 29,
     "metadata": {},
     "output_type": "execute_result"
    }
   ],
   "source": [
    "py\"f2\"(np.random.rand(5))"
   ]
  },
  {
   "cell_type": "code",
   "execution_count": 30,
   "id": "16e4b592",
   "metadata": {},
   "outputs": [],
   "source": [
    "py\"\"\"\n",
    "import numpy as np\n",
    "def area2(x):\n",
    "    return np.sum(f2(x))/np.size(x)\n",
    "\"\"\""
   ]
  },
  {
   "cell_type": "code",
   "execution_count": 31,
   "id": "fb0effbe",
   "metadata": {},
   "outputs": [
    {
     "data": {
      "text/plain": [
       "0.33341285361237777"
      ]
     },
     "execution_count": 31,
     "metadata": {},
     "output_type": "execute_result"
    }
   ],
   "source": [
    "py\"area2\"(np.random.rand(1000000))"
   ]
  },
  {
   "cell_type": "code",
   "execution_count": 32,
   "id": "a2dfcee7",
   "metadata": {},
   "outputs": [],
   "source": [
    "py\"\"\"\n",
    "import numpy as np\n",
    "import matplotlib.pyplot as plt\n",
    "def show_plot():\n",
    "    x = np.arange(0,1,0.005)\n",
    "    y = np.sin(np.pi*x)\n",
    "    plt.plot(x,y)\n",
    "    plt.show()\n",
    "\"\"\""
   ]
  },
  {
   "cell_type": "code",
   "execution_count": 33,
   "id": "2eca178e",
   "metadata": {},
   "outputs": [
    {
     "name": "stderr",
     "output_type": "stream",
     "text": [
      "C:\\Users\\javan\\.julia\\packages\\PyCall\\twYvK\\src\\pyeval.jl:7: UserWarning: Matplotlib is currently using agg, which is a non-GUI backend, so cannot show the figure.\r\n",
      "  pynamespace(m::Module) =\r\n"
     ]
    },
    {
     "data": {
      "image/png": "[encoded data removed]",
      "text/plain": [
       "Figure(PyObject <Figure size 640x480 with 1 Axes>)"
      ]
     },
     "metadata": {},
     "output_type": "display_data"
    }
   ],
   "source": [
    "py\"show_plot\"()"
   ]
  },
  {
   "cell_type": "code",
   "execution_count": 73,
   "id": "9f8ed681",
   "metadata": {},
   "outputs": [
    {
     "data": {
      "text/plain": [
       "PyObject <module 'scipy.special' from 'C:\\\\Users\\\\javan\\\\.julia\\\\conda\\\\3\\\\lib\\\\site-packages\\\\scipy\\\\special\\\\__init__.py'>"
      ]
     },
     "execution_count": 73,
     "metadata": {},
     "output_type": "execute_result"
    }
   ],
   "source": [
    "special = pyimport(\"scipy.special\")"
   ]
  },
  {
   "cell_type": "code",
   "execution_count": 75,
   "id": "a4398dcb",
   "metadata": {},
   "outputs": [
    {
     "data": {
      "text/plain": [
       "11-element Vector{Float64}:\n",
       " -0.5\n",
       " Inf\n",
       "  1.6449340668482264\n",
       "  1.2020569031595942\n",
       "  1.0823232337111381\n",
       "  1.03692775514337\n",
       "  1.0173430619844492\n",
       "  1.008349277381923\n",
       "  1.0040773561979444\n",
       "  1.0020083928260821\n",
       "  1.000994575127818"
      ]
     },
     "execution_count": 75,
     "metadata": {},
     "output_type": "execute_result"
    }
   ],
   "source": [
    "special.zeta(collect(0:10))"
   ]
  },
  {
   "cell_type": "code",
   "execution_count": 76,
   "id": "e33d33d3",
   "metadata": {},
   "outputs": [
    {
     "data": {
      "text/plain": [
       "11-element Vector{Float64}:\n",
       "     Inf\n",
       "      1.0\n",
       "      1.0\n",
       "      2.0\n",
       "      6.0\n",
       "     24.0\n",
       "    120.0\n",
       "    720.0\n",
       "   5040.0\n",
       "  40320.0\n",
       " 362880.0"
      ]
     },
     "execution_count": 76,
     "metadata": {},
     "output_type": "execute_result"
    }
   ],
   "source": [
    "special.gamma(collect(0:10))"
   ]
  },
  {
   "cell_type": "code",
   "execution_count": 83,
   "id": "4d2506c3",
   "metadata": {},
   "outputs": [
    {
     "data": {
      "text/plain": [
       "11-element Vector{ComplexF64}:\n",
       "                 NaN + NaN*im\n",
       "  0.4980156681183547 - 0.1549498283018101im\n",
       " 0.11229424234632607 + 0.3236128855019273im\n",
       " -0.4401134076370016 - 0.06363724312631674im\n",
       "  0.7058649325913121 - 0.4967390839974235im\n",
       " -0.9743952418052394 + 2.006689882722634im\n",
       "  1.0560845455207277 - 7.123931816061267im\n",
       " -0.2609566851983316 + 27.888274115082655im\n",
       "  1.8442848156250375 - 125.96060801751909im\n",
       "  -94.00399991730461 + 643.3621714430626im\n",
       "  1423.8519417891864 - 3496.081973307946im"
      ]
     },
     "execution_count": 83,
     "metadata": {},
     "output_type": "execute_result"
    }
   ],
   "source": [
    "special.gamma(collect(0:10)+collect(0:10)*im)"
   ]
  },
  {
   "cell_type": "code",
   "execution_count": 96,
   "id": "8791c9cc",
   "metadata": {},
   "outputs": [
    {
     "name": "stderr",
     "output_type": "stream",
     "text": [
      "sys:1: UserWarning: Matplotlib is currently using agg, which is a non-GUI backend, so cannot show the figure.\r\n"
     ]
    },
    {
     "data": {
      "image/png": "[encoded data removed]",
      "text/plain": [
       "Figure(PyObject <Figure size 640x480 with 1 Axes>)"
      ]
     },
     "metadata": {},
     "output_type": "display_data"
    }
   ],
   "source": [
    "y = special.ellipk(0.01*collect(0:100));\n",
    "plt.plot(y)\n",
    "plt.show()"
   ]
  },
  {
   "cell_type": "code",
   "execution_count": 128,
   "id": "e8dd7248",
   "metadata": {},
   "outputs": [],
   "source": [
    "py\"\"\"\n",
    "import matplotlib.pyplot as plt\n",
    "def show_plot():\n",
    "    x = 2*np.random.rand(10000) - 1\n",
    "    y = 2*np.random.rand(10000) - 1\n",
    "    c = np.where(x**2+y**2 < 1.0, 'r', 'b')\n",
    "    plt.gca().set_aspect('equal')\n",
    "    plt.scatter(x,y,color=c)\n",
    "    plt.show()\n",
    "\"\"\""
   ]
  },
  {
   "cell_type": "code",
   "execution_count": 129,
   "id": "ad02ca77",
   "metadata": {},
   "outputs": [
    {
     "data": {
      "image/png": "[encoded data removed]",
      "text/plain": [
       "Figure(PyObject <Figure size 640x480 with 1 Axes>)"
      ]
     },
     "metadata": {},
     "output_type": "display_data"
    }
   ],
   "source": [
    "py\"show_plot\"()"
   ]
  },
  {
   "cell_type": "code",
   "execution_count": null,
   "id": "fd40f5ba",
   "metadata": {},
   "outputs": [],
   "source": []
  }
 ],
 "metadata": {
  "kernelspec": {
   "display_name": "Julia 1.8.5",
   "language": "julia",
   "name": "julia-1.8"
  },
  "language_info": {
   "file_extension": ".jl",
   "mimetype": "application/julia",
   "name": "julia",
   "version": "1.8.5"
  }
 },
 "nbformat": 4,
 "nbformat_minor": 5
}
